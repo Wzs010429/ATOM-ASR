{
 "cells": [
  {
   "cell_type": "markdown",
   "id": "3bbb6c24-3bce-4345-becb-8d3b3b2baade",
   "metadata": {},
   "source": [
    "For each speaker, record a list of audio samples"
   ]
  },
  {
   "cell_type": "code",
   "execution_count": 1,
   "id": "f85d3c65-6312-4201-8e2d-00ebe4493ca0",
   "metadata": {},
   "outputs": [
    {
     "data": {
      "text/html": [
       "<div>\n",
       "<style scoped>\n",
       "    .dataframe tbody tr th:only-of-type {\n",
       "        vertical-align: middle;\n",
       "    }\n",
       "\n",
       "    .dataframe tbody tr th {\n",
       "        vertical-align: top;\n",
       "    }\n",
       "\n",
       "    .dataframe thead th {\n",
       "        text-align: right;\n",
       "    }\n",
       "</style>\n",
       "<table border=\"1\" class=\"dataframe\">\n",
       "  <thead>\n",
       "    <tr style=\"text-align: right;\">\n",
       "      <th></th>\n",
       "      <th>id</th>\n",
       "      <th>caid</th>\n",
       "    </tr>\n",
       "  </thead>\n",
       "  <tbody>\n",
       "    <tr>\n",
       "      <th>0</th>\n",
       "      <td>728505</td>\n",
       "      <td>0050H00000Bift5QAB</td>\n",
       "    </tr>\n",
       "    <tr>\n",
       "      <th>1</th>\n",
       "      <td>728532</td>\n",
       "      <td>0056S00000IBu8AQAT</td>\n",
       "    </tr>\n",
       "    <tr>\n",
       "      <th>2</th>\n",
       "      <td>728553</td>\n",
       "      <td>0056S00000H9HXEQA3</td>\n",
       "    </tr>\n",
       "    <tr>\n",
       "      <th>3</th>\n",
       "      <td>728555</td>\n",
       "      <td>0056S00000H9HXEQA3</td>\n",
       "    </tr>\n",
       "    <tr>\n",
       "      <th>4</th>\n",
       "      <td>728556</td>\n",
       "      <td>0056S00000H9HXEQA3</td>\n",
       "    </tr>\n",
       "  </tbody>\n",
       "</table>\n",
       "</div>"
      ],
      "text/plain": [
       "       id                caid\n",
       "0  728505  0050H00000Bift5QAB\n",
       "1  728532  0056S00000IBu8AQAT\n",
       "2  728553  0056S00000H9HXEQA3\n",
       "3  728555  0056S00000H9HXEQA3\n",
       "4  728556  0056S00000H9HXEQA3"
      ]
     },
     "execution_count": 1,
     "metadata": {},
     "output_type": "execute_result"
    }
   ],
   "source": [
    "import pandas as pd\n",
    "\n",
    "speakers = pd.read_csv(\"2k_urls.csv\", sep=\"\\t\")\n",
    "speakers.head()"
   ]
  },
  {
   "cell_type": "code",
   "execution_count": 2,
   "id": "4ebd76cd-ee1b-4fa7-ab18-66083a80915c",
   "metadata": {},
   "outputs": [
    {
     "data": {
      "text/plain": [
       "0056S00000ImVNZQA3    82\n",
       "0056S00000Ih3mvQAB    49\n",
       "0056S00000IBxRFQA1    41\n",
       "0056S00000Im8p1QAB    41\n",
       "0056S00000IlFBzQAN    41\n",
       "                      ..\n",
       "0056S00000GEFaHQAX     1\n",
       "0056S00000EsPkaQAF     1\n",
       "0056S00000FsJU0QAN     1\n",
       "0056S00000FsuqIQAR     1\n",
       "0050H00000EQB3FQAX     1\n",
       "Name: caid, Length: 265, dtype: int64"
      ]
     },
     "execution_count": 2,
     "metadata": {},
     "output_type": "execute_result"
    }
   ],
   "source": [
    "speakers_count = speakers[\"caid\"].value_counts()\n",
    "speakers_count"
   ]
  },
  {
   "cell_type": "code",
   "execution_count": 3,
   "id": "3cb9fef7-87a5-46ad-91bf-a88fdc65c342",
   "metadata": {},
   "outputs": [
    {
     "data": {
      "image/png": "[encoded data removed]",
      "text/plain": [
       "<Figure size 640x480 with 1 Axes>"
      ]
     },
     "metadata": {},
     "output_type": "display_data"
    }
   ],
   "source": [
    "import matplotlib.pyplot as plt\n",
    "\n",
    "plt.figure()\n",
    "plt.hist(speakers_count.values, bins=20)\n",
    "plt.ylabel(\"Speakers\")\n",
    "plt.xlabel(\"Examples\")\n",
    "plt.show()"
   ]
  },
  {
   "cell_type": "code",
   "execution_count": 4,
   "id": "e226f08f-b359-4656-bc77-58e73830139e",
   "metadata": {},
   "outputs": [],
   "source": [
    "# check each audio exists\n",
    "import os.path as osp\n",
    "\n",
    "for audio_id in speakers[\"id\"]:\n",
    "    _path = f\"nlp_voice/{audio_id}_file.m4a\" \n",
    "    if not osp.exists(_path):\n",
    "        print(f\"path {_path} does not exists.\")\n",
    "\n",
    "# all audios exist"
   ]
  },
  {
   "cell_type": "code",
   "execution_count": 5,
   "id": "de9e19d2-115a-42a1-b63f-10ffa706be68",
   "metadata": {},
   "outputs": [
    {
     "data": {
      "text/html": [
       "<div>\n",
       "<style scoped>\n",
       "    .dataframe tbody tr th:only-of-type {\n",
       "        vertical-align: middle;\n",
       "    }\n",
       "\n",
       "    .dataframe tbody tr th {\n",
       "        vertical-align: top;\n",
       "    }\n",
       "\n",
       "    .dataframe thead th {\n",
       "        text-align: right;\n",
       "    }\n",
       "</style>\n",
       "<table border=\"1\" class=\"dataframe\">\n",
       "  <thead>\n",
       "    <tr style=\"text-align: right;\">\n",
       "      <th></th>\n",
       "      <th>caid</th>\n",
       "      <th>id</th>\n",
       "    </tr>\n",
       "  </thead>\n",
       "  <tbody>\n",
       "    <tr>\n",
       "      <th>0</th>\n",
       "      <td>0050H000009Ts2KQAS</td>\n",
       "      <td>[692031]</td>\n",
       "    </tr>\n",
       "    <tr>\n",
       "      <th>1</th>\n",
       "      <td>0050H000009TzctQAC</td>\n",
       "      <td>[724955, 724958, 717118, 693052, 693044, 69389...</td>\n",
       "    </tr>\n",
       "    <tr>\n",
       "      <th>2</th>\n",
       "      <td>0050H000009olBdQAI</td>\n",
       "      <td>[692240]</td>\n",
       "    </tr>\n",
       "    <tr>\n",
       "      <th>3</th>\n",
       "      <td>0050H000009uKc5QAE</td>\n",
       "      <td>[688947, 706487, 708382, 714226, 690964]</td>\n",
       "    </tr>\n",
       "    <tr>\n",
       "      <th>4</th>\n",
       "      <td>0050H000009vu9WQAQ</td>\n",
       "      <td>[688589, 692657]</td>\n",
       "    </tr>\n",
       "    <tr>\n",
       "      <th>...</th>\n",
       "      <td>...</td>\n",
       "      <td>...</td>\n",
       "    </tr>\n",
       "    <tr>\n",
       "      <th>260</th>\n",
       "      <td>005i0000007O96KAAS</td>\n",
       "      <td>[694515, 695612, 697992, 697984, 692009, 69201...</td>\n",
       "    </tr>\n",
       "    <tr>\n",
       "      <th>261</th>\n",
       "      <td>005i0000007sXnNAAU</td>\n",
       "      <td>[692220]</td>\n",
       "    </tr>\n",
       "    <tr>\n",
       "      <th>262</th>\n",
       "      <td>005i0000007sdQ0AAI</td>\n",
       "      <td>[695348, 695327]</td>\n",
       "    </tr>\n",
       "    <tr>\n",
       "      <th>263</th>\n",
       "      <td>005i0000008LxDeAAK</td>\n",
       "      <td>[691106, 692153, 692176, 692178, 692205]</td>\n",
       "    </tr>\n",
       "    <tr>\n",
       "      <th>264</th>\n",
       "      <td>10000000</td>\n",
       "      <td>[703968, 717614]</td>\n",
       "    </tr>\n",
       "  </tbody>\n",
       "</table>\n",
       "<p>265 rows × 2 columns</p>\n",
       "</div>"
      ],
      "text/plain": [
       "                   caid                                                 id\n",
       "0    0050H000009Ts2KQAS                                           [692031]\n",
       "1    0050H000009TzctQAC  [724955, 724958, 717118, 693052, 693044, 69389...\n",
       "2    0050H000009olBdQAI                                           [692240]\n",
       "3    0050H000009uKc5QAE           [688947, 706487, 708382, 714226, 690964]\n",
       "4    0050H000009vu9WQAQ                                   [688589, 692657]\n",
       "..                  ...                                                ...\n",
       "260  005i0000007O96KAAS  [694515, 695612, 697992, 697984, 692009, 69201...\n",
       "261  005i0000007sXnNAAU                                           [692220]\n",
       "262  005i0000007sdQ0AAI                                   [695348, 695327]\n",
       "263  005i0000008LxDeAAK           [691106, 692153, 692176, 692178, 692205]\n",
       "264            10000000                                   [703968, 717614]\n",
       "\n",
       "[265 rows x 2 columns]"
      ]
     },
     "execution_count": 5,
     "metadata": {},
     "output_type": "execute_result"
    }
   ],
   "source": [
    "# build a dict of list\n",
    "speakers_agg = speakers.groupby('caid')['id'].apply(list).reset_index()\n",
    "speakers_agg"
   ]
  },
  {
   "cell_type": "code",
   "execution_count": 6,
   "id": "f8c3817b-d0d2-44f3-8fcf-4ba4a38b9bfa",
   "metadata": {},
   "outputs": [],
   "source": [
    "# export data\n",
    "import json\n",
    "\n",
    "with open(\"/home/sijie/ATOM-ASR/data/xtts_v2_data/speakers.json\", \"w\") as f:\n",
    "    json.dump(speakers_agg.to_dict(orient=\"records\"), f)"
   ]
  }
 ],
 "metadata": {
  "kernelspec": {
   "display_name": "Python (ATOM39)",
   "language": "python",
   "name": "atom39"
  },
  "language_info": {
   "codemirror_mode": {
    "name": "ipython",
    "version": 3
   },
   "file_extension": ".py",
   "mimetype": "text/x-python",
   "name": "python",
   "nbconvert_exporter": "python",
   "pygments_lexer": "ipython3",
   "version": "3.9.19"
  }
 },
 "nbformat": 4,
 "nbformat_minor": 5
}
