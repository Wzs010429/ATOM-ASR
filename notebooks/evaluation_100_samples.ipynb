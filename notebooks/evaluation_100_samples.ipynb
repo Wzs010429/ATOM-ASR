{
 "cells": [
  {
   "cell_type": "code",
   "metadata": {
    "ExecuteTime": {
     "end_time": "2024-05-16T10:15:45.248063Z",
     "start_time": "2024-05-16T10:15:32.241550Z"
    }
   },
   "source": [
    "import pandas as pd\n",
    "import torch\n",
    "from datasets import Dataset\n",
    "from transformers import AutoModelForSpeechSeq2Seq, AutoProcessor, pipeline\n",
    "\n",
    "device = \"cuda\" if torch.cuda.is_available() else \"cpu\"\n",
    "torch_dtype = torch.float16 if torch.cuda.is_available() else torch.float32\n",
    "print(device, torch_dtype)"
   ],
   "outputs": [
    {
     "name": "stdout",
     "output_type": "stream",
     "text": [
      "cuda torch.float16\n"
     ]
    }
   ],
   "execution_count": 1
  },
  {
   "cell_type": "code",
   "metadata": {
    "ExecuteTime": {
     "end_time": "2024-05-16T10:15:47.260689Z",
     "start_time": "2024-05-16T10:15:45.250056Z"
    }
   },
   "source": [
    "# load dataset\n",
    "dataset = Dataset.load_from_disk(\"../data/processed/100测试语音/sr_16000.hf\")\n",
    "print(dataset)\n",
    "print(dataset[0])\n",
    "\n",
    "df = pd.read_csv(\"../data/processed/100测试语音/data.csv\").drop(columns=[\"audio_url\", \"tags\", \"audio\"])\n",
    "df.head()"
   ],
   "outputs": [
    {
     "name": "stdout",
     "output_type": "stream",
     "text": [
      "Dataset({\n",
      "    features: ['sentence', 'audio_id', 'audio', 'duration'],\n",
      "    num_rows: 90\n",
      "})\n",
      "{'sentence': '客人青春休闲时尚，喜欢老花，喜欢经典款，喜欢speedy，无锡人，喜欢精致小巧的包型。', 'audio_id': '726157', 'audio': {'path': None, 'array': array([ 0.        ,  0.        ,  0.        , ...,  0.0085144 ,\n",
      "       -0.00106812, -0.00588989]), 'sampling_rate': 16000}, 'duration': 10.24}\n"
     ]
    },
    {
     "data": {
      "text/plain": [
       "                                  prediction  \\\n",
       "0  客人青春休闲时尚，喜欢老花，喜欢春天，还喜欢speed，无数人喜欢精致小巧的包型。   \n",
       "1   无锡人刚刚结婚，喜欢休闲的包包，喜欢黑牛角酷一点的，喜欢小邮差包包么teeth。   \n",
       "2             常州人喜欢小猫，喜欢猫的姑娘，喜欢老婆，喜欢奥那个喜欢戳特。   \n",
       "3     希望金典款选老华轩爆款需要发票自己开建筑，在附近开鹿，我喜欢大车喜欢经典色。   \n",
       "4            喜欢休闲，喜欢舒适，喜欢老花，喜欢小刘，才喜欢黑色，喜欢灰色。   \n",
       "\n",
       "                                       sentence  audio_id  \n",
       "0   客人青春休闲时尚，喜欢老花，喜欢经典款，喜欢speedy，无锡人，喜欢精致小巧的包型。    726157  \n",
       "1       无锡人刚刚结婚，喜欢休闲的包包，喜欢黑牛角酷一点的，喜欢小邮差包包metis。    726162  \n",
       "2        常州人喜欢小包，喜欢monogram，喜欢老花，喜欢onthego喜欢托特。    726098  \n",
       "3  喜欢经典款，喜欢老花，喜欢爆款，需要发票，自己开店，住在附近开鹿，喜欢大车，喜欢经典色。    725801  \n",
       "4               喜欢休闲，喜欢舒适，喜欢老花，喜欢小邮差，喜欢黑色，喜欢灰色。    725761  "
      ],
      "text/html": [
       "<div>\n",
       "<style scoped>\n",
       "    .dataframe tbody tr th:only-of-type {\n",
       "        vertical-align: middle;\n",
       "    }\n",
       "\n",
       "    .dataframe tbody tr th {\n",
       "        vertical-align: top;\n",
       "    }\n",
       "\n",
       "    .dataframe thead th {\n",
       "        text-align: right;\n",
       "    }\n",
       "</style>\n",
       "<table border=\"1\" class=\"dataframe\">\n",
       "  <thead>\n",
       "    <tr style=\"text-align: right;\">\n",
       "      <th></th>\n",
       "      <th>prediction</th>\n",
       "      <th>sentence</th>\n",
       "      <th>audio_id</th>\n",
       "    </tr>\n",
       "  </thead>\n",
       "  <tbody>\n",
       "    <tr>\n",
       "      <th>0</th>\n",
       "      <td>客人青春休闲时尚，喜欢老花，喜欢春天，还喜欢speed，无数人喜欢精致小巧的包型。</td>\n",
       "      <td>客人青春休闲时尚，喜欢老花，喜欢经典款，喜欢speedy，无锡人，喜欢精致小巧的包型。</td>\n",
       "      <td>726157</td>\n",
       "    </tr>\n",
       "    <tr>\n",
       "      <th>1</th>\n",
       "      <td>无锡人刚刚结婚，喜欢休闲的包包，喜欢黑牛角酷一点的，喜欢小邮差包包么teeth。</td>\n",
       "      <td>无锡人刚刚结婚，喜欢休闲的包包，喜欢黑牛角酷一点的，喜欢小邮差包包metis。</td>\n",
       "      <td>726162</td>\n",
       "    </tr>\n",
       "    <tr>\n",
       "      <th>2</th>\n",
       "      <td>常州人喜欢小猫，喜欢猫的姑娘，喜欢老婆，喜欢奥那个喜欢戳特。</td>\n",
       "      <td>常州人喜欢小包，喜欢monogram，喜欢老花，喜欢onthego喜欢托特。</td>\n",
       "      <td>726098</td>\n",
       "    </tr>\n",
       "    <tr>\n",
       "      <th>3</th>\n",
       "      <td>希望金典款选老华轩爆款需要发票自己开建筑，在附近开鹿，我喜欢大车喜欢经典色。</td>\n",
       "      <td>喜欢经典款，喜欢老花，喜欢爆款，需要发票，自己开店，住在附近开鹿，喜欢大车，喜欢经典色。</td>\n",
       "      <td>725801</td>\n",
       "    </tr>\n",
       "    <tr>\n",
       "      <th>4</th>\n",
       "      <td>喜欢休闲，喜欢舒适，喜欢老花，喜欢小刘，才喜欢黑色，喜欢灰色。</td>\n",
       "      <td>喜欢休闲，喜欢舒适，喜欢老花，喜欢小邮差，喜欢黑色，喜欢灰色。</td>\n",
       "      <td>725761</td>\n",
       "    </tr>\n",
       "  </tbody>\n",
       "</table>\n",
       "</div>"
      ]
     },
     "execution_count": 2,
     "metadata": {},
     "output_type": "execute_result"
    }
   ],
   "execution_count": 2
  },
  {
   "metadata": {
    "ExecuteTime": {
     "end_time": "2024-05-16T10:15:47.276629Z",
     "start_time": "2024-05-16T10:15:47.261675Z"
    }
   },
   "cell_type": "code",
   "source": [
    "def load_pipeline(hf_model_id: str) -> pipeline:\n",
    "    model = AutoModelForSpeechSeq2Seq.from_pretrained(\n",
    "        hf_model_id, torch_dtype=torch_dtype, low_cpu_mem_usage=True, use_safetensors=True\n",
    "    )\n",
    "    model.to(device)\n",
    "\n",
    "    processor = AutoProcessor.from_pretrained(hf_model_id)\n",
    "\n",
    "    pipe = pipeline(\n",
    "        \"automatic-speech-recognition\",\n",
    "        model=model,\n",
    "        tokenizer=processor.tokenizer,\n",
    "        feature_extractor=processor.feature_extractor,\n",
    "        max_new_tokens=128,\n",
    "        chunk_length_s=30,\n",
    "        batch_size=4,\n",
    "        return_timestamps=False,\n",
    "        torch_dtype=torch_dtype,\n",
    "        device=device,\n",
    "    )\n",
    "    return pipe\n",
    "\n",
    "\n",
    "def inference_dataset(pipe: pipeline, input_dataset: Dataset) -> list:\n",
    "    transcriptions = []\n",
    "    for i in range(len(input_dataset)):\n",
    "        sample = input_dataset[i][\"audio\"]\n",
    "        transcriptions.append(pipe(sample, generate_kwargs={\"task\": \"transcribe\", \"language\": \"chinese\"}))\n",
    "    return transcriptions"
   ],
   "outputs": [],
   "execution_count": 3
  },
  {
   "metadata": {
    "ExecuteTime": {
     "end_time": "2024-05-16T10:16:52.497076Z",
     "start_time": "2024-05-16T10:16:52.480130Z"
    }
   },
   "cell_type": "code",
   "source": [
    "candidates = {\n",
    "    \"openai/whisper-small\": None,\n",
    "    \"openai/whisper-large-v3\": None,\n",
    "    \"BELLE-2/Belle-whisper-large-v3-zh\": None\n",
    "}\n",
    "\n",
    "import os.path as osp\n",
    "import joblib\n",
    "\n",
    "if osp.exists(\"evaluation_100_samples/candidates.pkl\"):\n",
    "    candidates = joblib.load(\"evaluation_100_samples/candidates.pkl\")\n",
    "\n",
    "else:\n",
    "    for key in candidates.keys():\n",
    "        if key != \"BELLE-2/Belle-whisper-large-v3-zh\":\n",
    "            _pipe = load_pipeline(key)\n",
    "            candidates[key] = _pipe(dataset[\"audio\"], generate_kwargs={\"task\": \"transcribe\", \"language\": \"chinese\"})\n",
    "        elif key == \"BELLE-2/Belle-whisper-large-v3-zh\":\n",
    "            _pipe = pipeline(\n",
    "                \"automatic-speech-recognition\",\n",
    "                model=\"BELLE-2/Belle-whisper-large-v3-zh\",\n",
    "                max_new_tokens=128,\n",
    "                chunk_length_s=30,\n",
    "                batch_size=4,\n",
    "                return_timestamps=False,\n",
    "                torch_dtype=torch_dtype,\n",
    "                device=device,\n",
    "            )\n",
    "            _pipe.model.config.forced_decoder_ids = (\n",
    "                _pipe.tokenizer.get_decoder_prompt_ids(\n",
    "                    language=\"zh\",\n",
    "                    task=\"transcribe\"\n",
    "                )\n",
    "            )\n",
    "            candidates[key] = inference_dataset(_pipe, dataset)\n",
    "        else:\n",
    "            raise NotImplemented\n",
    "\n",
    "# save results\n",
    "joblib.dump(candidates, \"evaluation_100_samples/candidates.pkl\")"
   ],
   "outputs": [],
   "execution_count": 6
  },
  {
   "metadata": {
    "ExecuteTime": {
     "end_time": "2024-05-16T10:23:34.452420Z",
     "start_time": "2024-05-16T10:23:34.432426Z"
    }
   },
   "cell_type": "code",
   "source": [
    "from copy import deepcopy\n",
    "\n",
    "\n",
    "def extract_text(transcription_dict: dict) -> dict:\n",
    "    \"\"\"Extract the transcription text.\"\"\"\n",
    "    transcription_dict = deepcopy(transcription_dict)\n",
    "    for k, v in transcription_dict.items():\n",
    "        _v = [item[\"text\"] for item in v]\n",
    "        transcription_dict[k] = _v\n",
    "    return transcription_dict\n",
    "\n",
    "\n",
    "candidates = extract_text(candidates)"
   ],
   "outputs": [],
   "execution_count": 14
  },
  {
   "metadata": {
    "ExecuteTime": {
     "end_time": "2024-05-16T10:24:17.760529Z",
     "start_time": "2024-05-16T10:24:17.746514Z"
    }
   },
   "cell_type": "code",
   "source": [
    "# add to dataframe\n",
    "df[\"openai/whisper-small\"] = candidates[\"openai/whisper-small\"]\n",
    "df[\"openai/whisper-large-v3\"] = candidates[\"openai/whisper-large-v3\"]\n",
    "df[\"BELLE-2/Belle-whisper-large-v3-zh\"] = candidates[\"BELLE-2/Belle-whisper-large-v3-zh\"]\n",
    "\n",
    "# convert traditional chinese to simplified chinese\n",
    "from zhconv import convert\n",
    "\n",
    "\n",
    "df.to_csv(\"evaluation_100_samples/data.csv\", index=False)"
   ],
   "outputs": [],
   "execution_count": 16
  },
  {
   "metadata": {
    "ExecuteTime": {
     "end_time": "2024-05-16T10:24:20.848269Z",
     "start_time": "2024-05-16T10:24:20.827335Z"
    }
   },
   "cell_type": "code",
   "source": "df.head()",
   "outputs": [
    {
     "data": {
      "text/plain": [
       "                                  prediction  \\\n",
       "0  客人青春休闲时尚，喜欢老花，喜欢春天，还喜欢speed，无数人喜欢精致小巧的包型。   \n",
       "1   无锡人刚刚结婚，喜欢休闲的包包，喜欢黑牛角酷一点的，喜欢小邮差包包么teeth。   \n",
       "2             常州人喜欢小猫，喜欢猫的姑娘，喜欢老婆，喜欢奥那个喜欢戳特。   \n",
       "3     希望金典款选老华轩爆款需要发票自己开建筑，在附近开鹿，我喜欢大车喜欢经典色。   \n",
       "4            喜欢休闲，喜欢舒适，喜欢老花，喜欢小刘，才喜欢黑色，喜欢灰色。   \n",
       "\n",
       "                                       sentence  audio_id  \\\n",
       "0   客人青春休闲时尚，喜欢老花，喜欢经典款，喜欢speedy，无锡人，喜欢精致小巧的包型。    726157   \n",
       "1       无锡人刚刚结婚，喜欢休闲的包包，喜欢黑牛角酷一点的，喜欢小邮差包包metis。    726162   \n",
       "2        常州人喜欢小包，喜欢monogram，喜欢老花，喜欢onthego喜欢托特。    726098   \n",
       "3  喜欢经典款，喜欢老花，喜欢爆款，需要发票，自己开店，住在附近开鹿，喜欢大车，喜欢经典色。    725801   \n",
       "4               喜欢休闲，喜欢舒适，喜欢老花，喜欢小邮差，喜欢黑色，喜欢灰色。    725761   \n",
       "\n",
       "                     openai/whisper-small  \\\n",
       "0    客人青春休閒時尚喜歡老花喜歡金電話喜歡Sbedy無私人喜歡精緻小巧的包行   \n",
       "1   吳新仁剛剛結婚喜歡休閒的包包喜歡黑牛角褲一點的喜歡小油拆包包Mattice   \n",
       "2          常常人喜欢小包 喜欢猫的姑娘 喜欢老婆 喜欢奥特克 喜欢戳特   \n",
       "3  西湾经典款选老华 西湾包款需要发票自己开进住在附近开路我喜欢大车 喜欢经典色   \n",
       "4          喜欢休闲 喜欢舒适 喜欢老花 喜欢雪柔柴 喜欢灰色 喜欢灰色   \n",
       "\n",
       "                   openai/whisper-large-v3  \\\n",
       "0    客人青春休閒時尚喜歡老花喜歡經典款喜歡Speedy無錫人喜歡精緻小巧的包型   \n",
       "1      吴希仁刚刚结婚喜欢休闲的包包喜欢黑牛角酷一点的喜欢小油钗包包MATIS   \n",
       "2               常州人喜欢小包喜欢蒙多果人喜欢老花喜欢奥德购喜欢托特   \n",
       "3  喜欢经典款 喜欢老华 喜欢爆款需要发票自己开进驻在附近开路喜欢大车 喜欢经典色   \n",
       "4                喜歡休閒喜歡舒適喜歡老花喜歡選柔柴喜歡灰色喜歡灰色   \n",
       "\n",
       "      BELLE-2/Belle-whisper-large-v3-zh  \n",
       "0    客人青春休闲时尚喜欢老花喜欢纪念画喜欢斯比迪无锡人喜欢精致小巧的包型  \n",
       "1     无锡人刚刚结婚喜欢休闲的包包喜欢黑牛角酷一点的喜欢小邮差包包马蒂斯  \n",
       "2            常州人喜欢小包喜欢摩托公司喜欢老婆喜欢奥德购喜欢托特  \n",
       "3  喜欢经典款喜欢老华喜欢爆款需要发票自己开进住在附近开路喜欢大车喜欢经典色  \n",
       "4             喜欢休闲喜欢舒适喜欢老化喜欢雪柔柴喜欢黑色喜欢灰色  "
      ],
      "text/html": [
       "<div>\n",
       "<style scoped>\n",
       "    .dataframe tbody tr th:only-of-type {\n",
       "        vertical-align: middle;\n",
       "    }\n",
       "\n",
       "    .dataframe tbody tr th {\n",
       "        vertical-align: top;\n",
       "    }\n",
       "\n",
       "    .dataframe thead th {\n",
       "        text-align: right;\n",
       "    }\n",
       "</style>\n",
       "<table border=\"1\" class=\"dataframe\">\n",
       "  <thead>\n",
       "    <tr style=\"text-align: right;\">\n",
       "      <th></th>\n",
       "      <th>prediction</th>\n",
       "      <th>sentence</th>\n",
       "      <th>audio_id</th>\n",
       "      <th>openai/whisper-small</th>\n",
       "      <th>openai/whisper-large-v3</th>\n",
       "      <th>BELLE-2/Belle-whisper-large-v3-zh</th>\n",
       "    </tr>\n",
       "  </thead>\n",
       "  <tbody>\n",
       "    <tr>\n",
       "      <th>0</th>\n",
       "      <td>客人青春休闲时尚，喜欢老花，喜欢春天，还喜欢speed，无数人喜欢精致小巧的包型。</td>\n",
       "      <td>客人青春休闲时尚，喜欢老花，喜欢经典款，喜欢speedy，无锡人，喜欢精致小巧的包型。</td>\n",
       "      <td>726157</td>\n",
       "      <td>客人青春休閒時尚喜歡老花喜歡金電話喜歡Sbedy無私人喜歡精緻小巧的包行</td>\n",
       "      <td>客人青春休閒時尚喜歡老花喜歡經典款喜歡Speedy無錫人喜歡精緻小巧的包型</td>\n",
       "      <td>客人青春休闲时尚喜欢老花喜欢纪念画喜欢斯比迪无锡人喜欢精致小巧的包型</td>\n",
       "    </tr>\n",
       "    <tr>\n",
       "      <th>1</th>\n",
       "      <td>无锡人刚刚结婚，喜欢休闲的包包，喜欢黑牛角酷一点的，喜欢小邮差包包么teeth。</td>\n",
       "      <td>无锡人刚刚结婚，喜欢休闲的包包，喜欢黑牛角酷一点的，喜欢小邮差包包metis。</td>\n",
       "      <td>726162</td>\n",
       "      <td>吳新仁剛剛結婚喜歡休閒的包包喜歡黑牛角褲一點的喜歡小油拆包包Mattice</td>\n",
       "      <td>吴希仁刚刚结婚喜欢休闲的包包喜欢黑牛角酷一点的喜欢小油钗包包MATIS</td>\n",
       "      <td>无锡人刚刚结婚喜欢休闲的包包喜欢黑牛角酷一点的喜欢小邮差包包马蒂斯</td>\n",
       "    </tr>\n",
       "    <tr>\n",
       "      <th>2</th>\n",
       "      <td>常州人喜欢小猫，喜欢猫的姑娘，喜欢老婆，喜欢奥那个喜欢戳特。</td>\n",
       "      <td>常州人喜欢小包，喜欢monogram，喜欢老花，喜欢onthego喜欢托特。</td>\n",
       "      <td>726098</td>\n",
       "      <td>常常人喜欢小包 喜欢猫的姑娘 喜欢老婆 喜欢奥特克 喜欢戳特</td>\n",
       "      <td>常州人喜欢小包喜欢蒙多果人喜欢老花喜欢奥德购喜欢托特</td>\n",
       "      <td>常州人喜欢小包喜欢摩托公司喜欢老婆喜欢奥德购喜欢托特</td>\n",
       "    </tr>\n",
       "    <tr>\n",
       "      <th>3</th>\n",
       "      <td>希望金典款选老华轩爆款需要发票自己开建筑，在附近开鹿，我喜欢大车喜欢经典色。</td>\n",
       "      <td>喜欢经典款，喜欢老花，喜欢爆款，需要发票，自己开店，住在附近开鹿，喜欢大车，喜欢经典色。</td>\n",
       "      <td>725801</td>\n",
       "      <td>西湾经典款选老华 西湾包款需要发票自己开进住在附近开路我喜欢大车 喜欢经典色</td>\n",
       "      <td>喜欢经典款 喜欢老华 喜欢爆款需要发票自己开进驻在附近开路喜欢大车 喜欢经典色</td>\n",
       "      <td>喜欢经典款喜欢老华喜欢爆款需要发票自己开进住在附近开路喜欢大车喜欢经典色</td>\n",
       "    </tr>\n",
       "    <tr>\n",
       "      <th>4</th>\n",
       "      <td>喜欢休闲，喜欢舒适，喜欢老花，喜欢小刘，才喜欢黑色，喜欢灰色。</td>\n",
       "      <td>喜欢休闲，喜欢舒适，喜欢老花，喜欢小邮差，喜欢黑色，喜欢灰色。</td>\n",
       "      <td>725761</td>\n",
       "      <td>喜欢休闲 喜欢舒适 喜欢老花 喜欢雪柔柴 喜欢灰色 喜欢灰色</td>\n",
       "      <td>喜歡休閒喜歡舒適喜歡老花喜歡選柔柴喜歡灰色喜歡灰色</td>\n",
       "      <td>喜欢休闲喜欢舒适喜欢老化喜欢雪柔柴喜欢黑色喜欢灰色</td>\n",
       "    </tr>\n",
       "  </tbody>\n",
       "</table>\n",
       "</div>"
      ]
     },
     "execution_count": 17,
     "metadata": {},
     "output_type": "execute_result"
    }
   ],
   "execution_count": 17
  },
  {
   "metadata": {},
   "cell_type": "code",
   "outputs": [],
   "execution_count": null,
   "source": ""
  },
  {
   "metadata": {},
   "cell_type": "code",
   "outputs": [],
   "execution_count": null,
   "source": ""
  },
  {
   "cell_type": "code",
   "execution_count": null,
   "metadata": {},
   "outputs": [],
   "source": [
    "# ['english'd, 'chinese', 'german', 'spanish', 'russian', 'korean', 'french', 'japanese', 'portuguese', 'turkish', 'polish', 'catalan', 'dutch', 'arabic', 'swedish', 'italian', 'indonesian', 'hindi', 'finnish', 'vietnamese', 'hebrew', 'ukrainian', 'greek', 'malay', 'czech', 'romanian', 'danish', 'hungarian', 'tamil', 'norwegian', 'thai', 'urdu', 'croatian', 'bulgarian', 'lithuanian', 'latin', 'maori', 'malayalam', 'welsh', 'slovak', 'telugu', 'persian', 'latvian', 'bengali', 'serbian', 'azerbaijani', 'slovenian', 'kannada', 'estonian', 'macedonian', 'breton', 'basque', 'icelandic', 'armenian', 'nepali', 'mongolian', 'bosnian', 'kazakh', 'albanian', 'swahili', 'galician', 'marathi', 'punjabi', 'sinhala', 'khmer', 'shona', 'yoruba', 'somali', 'afrikaans', 'occitan', 'georgian', 'belarusian', 'tajik', 'sindhi', 'gujarati', 'amharic', 'yiddish', 'lao', 'uzbek', 'faroese', 'haitian creole', 'pashto', 'turkmen', 'nynorsk', 'maltese', 'sanskrit', 'luxembourgish', 'myanmar', 'tibetan', 'tagalog', 'malagasy', 'assamese', 'tatar', 'hawaiian', 'lingala', 'hausa', 'bashkir', 'javanese', 'sundanese', 'cantonese', 'burmese', 'valencian', 'flemish', 'haitian', 'letzeburgesch', 'pushto', 'panjabi', 'moldavian', 'moldovan', 'sinhalese', 'castilian', 'mandarin']"
   ]
  }
 ],
 "metadata": {
  "kernelspec": {
   "display_name": "atom",
   "language": "python",
   "name": "python3"
  },
  "language_info": {
   "codemirror_mode": {
    "name": "ipython",
    "version": 3
   },
   "file_extension": ".py",
   "mimetype": "text/x-python",
   "name": "python",
   "nbconvert_exporter": "python",
   "pygments_lexer": "ipython3",
   "version": "3.9.19"
  }
 },
 "nbformat": 4,
 "nbformat_minor": 2
}
