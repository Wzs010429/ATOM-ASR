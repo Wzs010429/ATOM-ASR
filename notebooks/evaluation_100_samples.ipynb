{
 "cells": [
  {
   "cell_type": "code",
   "metadata": {
    "ExecuteTime": {
     "end_time": "2024-05-17T11:08:47.850159Z",
     "start_time": "2024-05-17T11:08:35.375183Z"
    }
   },
   "source": [
    "import pandas as pd\n",
    "import torch\n",
    "from datasets import Dataset\n",
    "from transformers import AutoModelForSpeechSeq2Seq, AutoProcessor, pipeline\n",
    "\n",
    "device = \"cuda\" if torch.cuda.is_available() else \"cpu\"\n",
    "torch_dtype = torch.float16 if torch.cuda.is_available() else torch.float32\n",
    "print(device, torch_dtype)"
   ],
   "outputs": [
    {
     "name": "stdout",
     "output_type": "stream",
     "text": [
      "cuda torch.float16\n"
     ]
    }
   ],
   "execution_count": 1
  },
  {
   "cell_type": "code",
   "metadata": {
    "ExecuteTime": {
     "end_time": "2024-05-17T11:08:49.753207Z",
     "start_time": "2024-05-17T11:08:47.851156Z"
    }
   },
   "source": [
    "# load dataset\n",
    "dataset = Dataset.load_from_disk(\"../data/processed/100测试语音/sr_16000.hf\")\n",
    "print(dataset)\n",
    "print(dataset[0])\n",
    "\n",
    "df = pd.read_csv(\"../data/processed/100测试语音/data.csv\").drop(columns=[\"audio_url\", \"tags\", \"audio\"])\n",
    "df.head()"
   ],
   "outputs": [
    {
     "name": "stdout",
     "output_type": "stream",
     "text": [
      "Dataset({\n",
      "    features: ['sentence', 'audio_id', 'audio', 'duration'],\n",
      "    num_rows: 90\n",
      "})\n",
      "{'sentence': '客人青春休闲时尚，喜欢老花，喜欢经典款，喜欢speedy，无锡人，喜欢精致小巧的包型。', 'audio_id': '726157', 'audio': {'path': None, 'array': array([ 0.        ,  0.        ,  0.        , ...,  0.0085144 ,\n",
      "       -0.00106812, -0.00588989]), 'sampling_rate': 16000}, 'duration': 10.24}\n"
     ]
    },
    {
     "data": {
      "text/plain": [
       "                                  prediction  \\\n",
       "0  客人青春休闲时尚，喜欢老花，喜欢春天，还喜欢speed，无数人喜欢精致小巧的包型。   \n",
       "1   无锡人刚刚结婚，喜欢休闲的包包，喜欢黑牛角酷一点的，喜欢小邮差包包么teeth。   \n",
       "2             常州人喜欢小猫，喜欢猫的姑娘，喜欢老婆，喜欢奥那个喜欢戳特。   \n",
       "3     希望金典款选老华轩爆款需要发票自己开建筑，在附近开鹿，我喜欢大车喜欢经典色。   \n",
       "4            喜欢休闲，喜欢舒适，喜欢老花，喜欢小刘，才喜欢黑色，喜欢灰色。   \n",
       "\n",
       "                                       sentence  audio_id  \n",
       "0   客人青春休闲时尚，喜欢老花，喜欢经典款，喜欢speedy，无锡人，喜欢精致小巧的包型。    726157  \n",
       "1       无锡人刚刚结婚，喜欢休闲的包包，喜欢黑牛角酷一点的，喜欢小邮差包包metis。    726162  \n",
       "2        常州人喜欢小包，喜欢monogram，喜欢老花，喜欢onthego喜欢托特。    726098  \n",
       "3  喜欢经典款，喜欢老花，喜欢爆款，需要发票，自己开店，住在附近开鹿，喜欢大车，喜欢经典色。    725801  \n",
       "4               喜欢休闲，喜欢舒适，喜欢老花，喜欢小邮差，喜欢黑色，喜欢灰色。    725761  "
      ],
      "text/html": [
       "<div>\n",
       "<style scoped>\n",
       "    .dataframe tbody tr th:only-of-type {\n",
       "        vertical-align: middle;\n",
       "    }\n",
       "\n",
       "    .dataframe tbody tr th {\n",
       "        vertical-align: top;\n",
       "    }\n",
       "\n",
       "    .dataframe thead th {\n",
       "        text-align: right;\n",
       "    }\n",
       "</style>\n",
       "<table border=\"1\" class=\"dataframe\">\n",
       "  <thead>\n",
       "    <tr style=\"text-align: right;\">\n",
       "      <th></th>\n",
       "      <th>prediction</th>\n",
       "      <th>sentence</th>\n",
       "      <th>audio_id</th>\n",
       "    </tr>\n",
       "  </thead>\n",
       "  <tbody>\n",
       "    <tr>\n",
       "      <th>0</th>\n",
       "      <td>客人青春休闲时尚，喜欢老花，喜欢春天，还喜欢speed，无数人喜欢精致小巧的包型。</td>\n",
       "      <td>客人青春休闲时尚，喜欢老花，喜欢经典款，喜欢speedy，无锡人，喜欢精致小巧的包型。</td>\n",
       "      <td>726157</td>\n",
       "    </tr>\n",
       "    <tr>\n",
       "      <th>1</th>\n",
       "      <td>无锡人刚刚结婚，喜欢休闲的包包，喜欢黑牛角酷一点的，喜欢小邮差包包么teeth。</td>\n",
       "      <td>无锡人刚刚结婚，喜欢休闲的包包，喜欢黑牛角酷一点的，喜欢小邮差包包metis。</td>\n",
       "      <td>726162</td>\n",
       "    </tr>\n",
       "    <tr>\n",
       "      <th>2</th>\n",
       "      <td>常州人喜欢小猫，喜欢猫的姑娘，喜欢老婆，喜欢奥那个喜欢戳特。</td>\n",
       "      <td>常州人喜欢小包，喜欢monogram，喜欢老花，喜欢onthego喜欢托特。</td>\n",
       "      <td>726098</td>\n",
       "    </tr>\n",
       "    <tr>\n",
       "      <th>3</th>\n",
       "      <td>希望金典款选老华轩爆款需要发票自己开建筑，在附近开鹿，我喜欢大车喜欢经典色。</td>\n",
       "      <td>喜欢经典款，喜欢老花，喜欢爆款，需要发票，自己开店，住在附近开鹿，喜欢大车，喜欢经典色。</td>\n",
       "      <td>725801</td>\n",
       "    </tr>\n",
       "    <tr>\n",
       "      <th>4</th>\n",
       "      <td>喜欢休闲，喜欢舒适，喜欢老花，喜欢小刘，才喜欢黑色，喜欢灰色。</td>\n",
       "      <td>喜欢休闲，喜欢舒适，喜欢老花，喜欢小邮差，喜欢黑色，喜欢灰色。</td>\n",
       "      <td>725761</td>\n",
       "    </tr>\n",
       "  </tbody>\n",
       "</table>\n",
       "</div>"
      ]
     },
     "execution_count": 2,
     "metadata": {},
     "output_type": "execute_result"
    }
   ],
   "execution_count": 2
  },
  {
   "metadata": {
    "ExecuteTime": {
     "end_time": "2024-05-16T10:15:47.276629Z",
     "start_time": "2024-05-16T10:15:47.261675Z"
    }
   },
   "cell_type": "code",
   "source": [
    "def load_pipeline(hf_model_id: str) -> pipeline:\n",
    "    model = AutoModelForSpeechSeq2Seq.from_pretrained(\n",
    "        hf_model_id, torch_dtype=torch_dtype, low_cpu_mem_usage=True, use_safetensors=True\n",
    "    )\n",
    "    model.to(device)\n",
    "\n",
    "    processor = AutoProcessor.from_pretrained(hf_model_id)\n",
    "\n",
    "    pipe = pipeline(\n",
    "        \"automatic-speech-recognition\",\n",
    "        model=model,\n",
    "        tokenizer=processor.tokenizer,\n",
    "        feature_extractor=processor.feature_extractor,\n",
    "        max_new_tokens=128,\n",
    "        chunk_length_s=30,\n",
    "        batch_size=4,\n",
    "        return_timestamps=False,\n",
    "        torch_dtype=torch_dtype,\n",
    "        device=device,\n",
    "    )\n",
    "    return pipe\n",
    "\n",
    "\n",
    "def inference_dataset(pipe: pipeline, input_dataset: Dataset) -> list:\n",
    "    transcriptions = []\n",
    "    for i in range(len(input_dataset)):\n",
    "        sample = input_dataset[i][\"audio\"]\n",
    "        transcriptions.append(pipe(sample, generate_kwargs={\"task\": \"transcribe\", \"language\": \"chinese\"}))\n",
    "    return transcriptions"
   ],
   "outputs": [],
   "execution_count": 3
  },
  {
   "metadata": {
    "ExecuteTime": {
     "end_time": "2024-05-17T11:08:57.428775Z",
     "start_time": "2024-05-17T11:08:57.397879Z"
    }
   },
   "cell_type": "code",
   "source": [
    "# store the prediction results\n",
    "candidates = {\n",
    "    \"openai/whisper-small\": None,\n",
    "    \"openai/whisper-large-v3\": None,\n",
    "    \"BELLE-2/Belle-whisper-large-v3-zh\": None\n",
    "}\n",
    "\n",
    "import os.path as osp\n",
    "import joblib\n",
    "\n",
    "candidates_path = \"evaluation_100_samples/candidates.pkl\"\n",
    "if osp.exists(candidates_path):\n",
    "    candidates = joblib.load(candidates_path)\n",
    "\n",
    "else:\n",
    "    for key in candidates.keys():\n",
    "        if key != \"BELLE-2/Belle-whisper-large-v3-zh\":\n",
    "            _pipe = load_pipeline(key)\n",
    "            candidates[key] = _pipe(dataset[\"audio\"], generate_kwargs={\"task\": \"transcribe\", \"language\": \"chinese\"})\n",
    "        elif key == \"BELLE-2/Belle-whisper-large-v3-zh\":\n",
    "            _pipe = pipeline(\n",
    "                \"automatic-speech-recognition\",\n",
    "                model=\"BELLE-2/Belle-whisper-large-v3-zh\",\n",
    "                max_new_tokens=128,\n",
    "                chunk_length_s=30,\n",
    "                batch_size=4,\n",
    "                return_timestamps=False,\n",
    "                torch_dtype=torch_dtype,\n",
    "                device=device,\n",
    "            )\n",
    "            _pipe.model.config.forced_decoder_ids = (\n",
    "                _pipe.tokenizer.get_decoder_prompt_ids(\n",
    "                    language=\"zh\",\n",
    "                    task=\"transcribe\"\n",
    "                )\n",
    "            )\n",
    "            candidates[key] = inference_dataset(_pipe, dataset)\n",
    "        else:\n",
    "            raise NotImplemented\n",
    "\n",
    "    # save results\n",
    "    joblib.dump(candidates, candidates_path)"
   ],
   "outputs": [
    {
     "data": {
      "text/plain": [
       "['evaluation_100_samples/candidates.pkl']"
      ]
     },
     "execution_count": 3,
     "metadata": {},
     "output_type": "execute_result"
    }
   ],
   "execution_count": 3
  },
  {
   "metadata": {
    "ExecuteTime": {
     "end_time": "2024-05-17T11:09:16.643519Z",
     "start_time": "2024-05-17T11:09:16.624582Z"
    }
   },
   "cell_type": "code",
   "source": [
    "from copy import deepcopy\n",
    "\n",
    "\n",
    "def extract_text(transcription_dict: dict) -> dict:\n",
    "    \"\"\"Extract the transcription text.\"\"\"\n",
    "    transcription_dict = deepcopy(transcription_dict)\n",
    "    for k, v in transcription_dict.items():\n",
    "        _v = [item[\"text\"] for item in v]\n",
    "        transcription_dict[k] = _v\n",
    "    return transcription_dict\n",
    "\n",
    "\n",
    "candidates = extract_text(candidates)"
   ],
   "outputs": [],
   "execution_count": 4
  },
  {
   "metadata": {
    "ExecuteTime": {
     "end_time": "2024-05-17T11:21:35.312876Z",
     "start_time": "2024-05-17T11:21:35.276464Z"
    }
   },
   "cell_type": "code",
   "source": [
    "# add to dataframe\n",
    "df[\"openai/whisper-small\"] = candidates[\"openai/whisper-small\"]\n",
    "df[\"openai/whisper-large-v3\"] = candidates[\"openai/whisper-large-v3\"]\n",
    "df[\"BELLE-2/Belle-whisper-large-v3-zh\"] = candidates[\"BELLE-2/Belle-whisper-large-v3-zh\"]\n",
    "\n",
    "# convert traditional chinese to simplified chinese\n",
    "import opencc\n",
    "import re\n",
    "\n",
    "converter = opencc.OpenCC('t2s.json')\n",
    "\n",
    "\n",
    "def convert_text(text: str) -> str:\n",
    "    # remove the punctuation marks and convert to simplified chinese\n",
    "    text = re.sub(r\"[^\\w\\s]\", \"\", text)\n",
    "    return converter.convert(text)\n",
    "\n",
    "\n",
    "for col in [\"prediction\", \"sentence\"] + list(candidates.keys()):\n",
    "    df[col + \"_clean\"] = df[col].apply(lambda x: convert_text(x))\n",
    "\n",
    "# save the results\n",
    "df.to_csv(\"evaluation_100_samples/data.csv\", index=False)"
   ],
   "outputs": [],
   "execution_count": 17
  },
  {
   "metadata": {
    "ExecuteTime": {
     "end_time": "2024-05-17T11:28:53.857504Z",
     "start_time": "2024-05-17T11:28:50.406396Z"
    }
   },
   "cell_type": "code",
   "source": [
    "# calculate the cer and wer\n",
    "import evaluate\n",
    "\n",
    "metrics = [(\"cer\", evaluate.load(\"cer\")), (\"wer\", evaluate.load(\"wer\"))]\n",
    "pred_col = [\n",
    "    # \"sentence\",\n",
    "    # \"openai/whisper-small\",\n",
    "    # \"openai/whisper-large-v3\",\n",
    "    # \"BELLE-2/Belle-whisper-large-v3-zh\",\n",
    "    \"sentence_clean\",\n",
    "    \"openai/whisper-small_clean\",\n",
    "    \"openai/whisper-large-v3_clean\",\n",
    "    \"BELLE-2/Belle-whisper-large-v3-zh_clean\"\n",
    "]\n",
    "\n",
    "for m, m_obj in metrics:\n",
    "    for col in pred_col:\n",
    "        print(f\"{m} for {col}: {m_obj.compute(predictions=df['prediction_clean'], references=df[col]):.3f}\")"
   ],
   "outputs": [
    {
     "name": "stdout",
     "output_type": "stream",
     "text": [
      "cer for sentence_clean: 0.264\n",
      "cer for openai/whisper-small_clean: 0.368\n",
      "cer for openai/whisper-large-v3_clean: 0.308\n",
      "cer for BELLE-2/Belle-whisper-large-v3-zh_clean: 0.302\n",
      "wer for sentence_clean: 0.950\n",
      "wer for openai/whisper-small_clean: 1.014\n",
      "wer for openai/whisper-large-v3_clean: 1.018\n",
      "wer for BELLE-2/Belle-whisper-large-v3-zh_clean: 1.253\n"
     ]
    }
   ],
   "execution_count": 26
  },
  {
   "metadata": {},
   "cell_type": "code",
   "outputs": [],
   "execution_count": null,
   "source": ""
  }
 ],
 "metadata": {
  "kernelspec": {
   "display_name": "atom",
   "language": "python",
   "name": "python3"
  },
  "language_info": {
   "codemirror_mode": {
    "name": "ipython",
    "version": 3
   },
   "file_extension": ".py",
   "mimetype": "text/x-python",
   "name": "python",
   "nbconvert_exporter": "python",
   "pygments_lexer": "ipython3",
   "version": "3.9.19"
  }
 },
 "nbformat": 4,
 "nbformat_minor": 2
}
