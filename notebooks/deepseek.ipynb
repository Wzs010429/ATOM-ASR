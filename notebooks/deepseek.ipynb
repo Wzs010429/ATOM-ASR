{
 "cells": [
  {
   "cell_type": "code",
   "id": "initial_id",
   "metadata": {
    "collapsed": true,
    "ExecuteTime": {
     "end_time": "2024-05-22T10:05:33.557209Z",
     "start_time": "2024-05-22T10:05:31.586392Z"
    }
   },
   "source": [
    "import pandas as pd\n",
    "\n",
    "# define constant\n",
    "SENTENCES_PATH = \"../data/processed/100测试语音/data.csv\"\n",
    "KEYWORDS_PATH = \"../data/raw/Keyword list of NLP.xlsx\"\n",
    "\n",
    "# load data\n",
    "sentences = pd.read_csv(SENTENCES_PATH)[[\"sentence\"]]\n",
    "keywords = pd.read_excel(KEYWORDS_PATH)\n",
    "\n",
    "# check data\n",
    "keywords[\"Category\"].value_counts()"
   ],
   "outputs": [
    {
     "data": {
      "text/plain": [
       "Category\n",
       "SERIES      408\n",
       "TYPE        273\n",
       "BRAND        92\n",
       "MATERIAL     42\n",
       "NICKNAME     42\n",
       "LINES        19\n",
       "SOCIAL        3\n",
       "Name: count, dtype: int64"
      ]
     },
     "execution_count": 1,
     "metadata": {},
     "output_type": "execute_result"
    }
   ],
   "execution_count": 1
  },
  {
   "metadata": {
    "ExecuteTime": {
     "end_time": "2024-05-22T10:05:34.738942Z",
     "start_time": "2024-05-22T10:05:34.726459Z"
    }
   },
   "cell_type": "code",
   "source": "keywords.loc[keywords[\"Category\"] == \"SOCIAL\"]",
   "id": "dbdcf462a0069640",
   "outputs": [
    {
     "data": {
      "text/plain": [
       "    Category stdkw\n",
       "603   SOCIAL    保值\n",
       "604   SOCIAL    爆款\n",
       "605   SOCIAL   流行款"
      ],
      "text/html": [
       "<div>\n",
       "<style scoped>\n",
       "    .dataframe tbody tr th:only-of-type {\n",
       "        vertical-align: middle;\n",
       "    }\n",
       "\n",
       "    .dataframe tbody tr th {\n",
       "        vertical-align: top;\n",
       "    }\n",
       "\n",
       "    .dataframe thead th {\n",
       "        text-align: right;\n",
       "    }\n",
       "</style>\n",
       "<table border=\"1\" class=\"dataframe\">\n",
       "  <thead>\n",
       "    <tr style=\"text-align: right;\">\n",
       "      <th></th>\n",
       "      <th>Category</th>\n",
       "      <th>stdkw</th>\n",
       "    </tr>\n",
       "  </thead>\n",
       "  <tbody>\n",
       "    <tr>\n",
       "      <th>603</th>\n",
       "      <td>SOCIAL</td>\n",
       "      <td>保值</td>\n",
       "    </tr>\n",
       "    <tr>\n",
       "      <th>604</th>\n",
       "      <td>SOCIAL</td>\n",
       "      <td>爆款</td>\n",
       "    </tr>\n",
       "    <tr>\n",
       "      <th>605</th>\n",
       "      <td>SOCIAL</td>\n",
       "      <td>流行款</td>\n",
       "    </tr>\n",
       "  </tbody>\n",
       "</table>\n",
       "</div>"
      ]
     },
     "execution_count": 2,
     "metadata": {},
     "output_type": "execute_result"
    }
   ],
   "execution_count": 2
  },
  {
   "metadata": {
    "ExecuteTime": {
     "end_time": "2024-05-22T10:05:37.789765Z",
     "start_time": "2024-05-22T10:05:37.777804Z"
    }
   },
   "cell_type": "code",
   "source": [
    "def sample_sentence(data: pd.DataFrame, n: int) -> list[dict]:\n",
    "    \"\"\"\n",
    "    Sample n records from sentence data and return as a list of dictionaries.\n",
    "    :param data: a dataframe\n",
    "    :param n: the number of returned samples\n",
    "    :return: a list of dictionaries\n",
    "    \"\"\"\n",
    "    return data.sample(n).to_dict(orient=\"records\")\n",
    "\n",
    "\n",
    "def sample_keyword(data: pd.DataFrame, n: int, stratify: bool) -> list[dict]:\n",
    "    \"\"\"\n",
    "    Sample n records from keywords data and return as a list of dictionaries.\n",
    "    :param data: keywords dataframe\n",
    "    :param n: number of samples if stratify is False, number of samples per category if stratify is True (except SOCIAL category, which is returned as a whole)\n",
    "    :param stratify: indicate whether to stratify the samples by category\n",
    "    :return: a list of dictionaries \n",
    "    \"\"\"\n",
    "    if not stratify:\n",
    "        return data.sample(n).to_dict(orient=\"records\")\n",
    "    else:\n",
    "        # stratify by category\n",
    "        # store the result\n",
    "        # handle the case where the category is SOCIAL\n",
    "        r = [*data.loc[data[\"Category\"] == \"SOCIAL\"].to_dict(orient=\"records\")]\n",
    "\n",
    "        # other categories\n",
    "        stratified_samples = data[data[\"Category\"] != \"SOCIAL\"].groupby(\"Category\", group_keys=True).apply(\n",
    "            lambda x: x.sample(n), include_groups=False)\n",
    "        stratified_samples.index = stratified_samples.index.droplevel(1)\n",
    "        stratified_samples.reset_index(drop=False, inplace=True)\n",
    "        r.extend(stratified_samples.to_dict(orient=\"records\"))\n",
    "\n",
    "        return r"
   ],
   "id": "598d0a67f029a6b8",
   "outputs": [],
   "execution_count": 3
  },
  {
   "metadata": {
    "ExecuteTime": {
     "end_time": "2024-05-22T10:05:39.413993Z",
     "start_time": "2024-05-22T10:05:39.392061Z"
    }
   },
   "cell_type": "code",
   "source": [
    "# examples\n",
    "sample_sentence(sentences, 3)"
   ],
   "id": "a2f9ef4d7d29abda",
   "outputs": [
    {
     "data": {
      "text/plain": [
       "[{'sentence': '不过买过nano speedy有整理需求，喜欢老花，可推荐皮质包包。'},\n",
       " {'sentence': '新疆人喜欢皮质款，喜欢黑色包，喜欢大包。'},\n",
       " {'sentence': '喜欢黑色小包，喜欢逸时这瓶香水。'}]"
      ]
     },
     "execution_count": 4,
     "metadata": {},
     "output_type": "execute_result"
    }
   ],
   "execution_count": 4
  },
  {
   "metadata": {
    "ExecuteTime": {
     "end_time": "2024-05-22T10:05:40.609980Z",
     "start_time": "2024-05-22T10:05:40.595151Z"
    }
   },
   "cell_type": "code",
   "source": "sample_keyword(keywords, 1, stratify=True)",
   "id": "6603cdb4b3b3c75",
   "outputs": [
    {
     "data": {
      "text/plain": [
       "[{'Category': 'SOCIAL', 'stdkw': '保值'},\n",
       " {'Category': 'SOCIAL', 'stdkw': '爆款'},\n",
       " {'Category': 'SOCIAL', 'stdkw': '流行款'},\n",
       " {'Category': 'BRAND', 'stdkw': 'off white'},\n",
       " {'Category': 'LINES', 'stdkw': '荔枝纹'},\n",
       " {'Category': 'MATERIAL', 'stdkw': '布艺'},\n",
       " {'Category': 'NICKNAME', 'stdkw': '月光女神'},\n",
       " {'Category': 'SERIES', 'stdkw': 'sunny'},\n",
       " {'Category': 'TYPE', 'stdkw': '裙装'}]"
      ]
     },
     "execution_count": 5,
     "metadata": {},
     "output_type": "execute_result"
    }
   ],
   "execution_count": 5
  },
  {
   "metadata": {
    "ExecuteTime": {
     "end_time": "2024-05-22T10:05:49.953869Z",
     "start_time": "2024-05-22T10:05:48.785788Z"
    }
   },
   "cell_type": "code",
   "source": [
    "# connect to DeepSeek model\n",
    "from langchain_openai import ChatOpenAI\n",
    "from langchain_core.prompts import ChatPromptTemplate\n",
    "from langchain_core.output_parsers import StrOutputParser\n",
    "\n",
    "model = ChatOpenAI(\n",
    "    model='deepseek-chat',\n",
    "    openai_api_key='sk-e9a452d4146a4d7286504bba5e8d7cc9',\n",
    "    openai_api_base='https://api.deepseek.com',\n",
    "    max_tokens=1024\n",
    ")\n",
    "\n",
    "parser = StrOutputParser()"
   ],
   "id": "c68b5aec5b654a0f",
   "outputs": [],
   "execution_count": 6
  },
  {
   "metadata": {
    "ExecuteTime": {
     "end_time": "2024-05-22T10:05:52.773501Z",
     "start_time": "2024-05-22T10:05:52.768518Z"
    }
   },
   "cell_type": "code",
   "source": [
    "def list2prompt(l: list[dict], data_type: str, category: str = \"\") -> str:\n",
    "    \"\"\"\n",
    "    Convert a list of dictionaries to a string prompt.\n",
    "    :param l: a list of dictionaries\n",
    "    :param data_type: can be either \"sentence\" or \"keyword\"\n",
    "    :param category: used when data_type is \"keyword\"\n",
    "    :return: a string prompt\n",
    "    \"\"\"\n",
    "    if data_type == \"sentence\":\n",
    "        return \"\\n\".join(d[\"sentence\"] for d in l)\n",
    "    elif data_type == \"keyword\":\n",
    "        return \",\".join(d[\"stdkw\"] for d in l if d[\"Category\"] == category.upper())\n",
    "    else:\n",
    "        raise NotImplementedError(f\"Data type {data_type} is not supported.\")"
   ],
   "id": "482bf96d7f28454",
   "outputs": [],
   "execution_count": 7
  },
  {
   "metadata": {
    "ExecuteTime": {
     "end_time": "2024-05-22T10:08:27.659812Z",
     "start_time": "2024-05-22T10:08:27.651843Z"
    }
   },
   "cell_type": "code",
   "source": [
    "# define prompt template\n",
    "system_prompt = \"\"\"你是一位经过专业培训的奢侈品柜台导购。现在我有一些用于培训的示范用语，这些语言主要是简要地对客户进行描述。请参考以下这些语言示范，并考虑现有的产品信息，深呼吸，思考一下，你能举出其他的例子吗？这些例子应该尽可能贴近原有示范的风格，产品相关信息请严格按照我们提供的产品列表。\"\"\"\n",
    "\n",
    "user_prompt = \"\"\"以下是供你参考的产品信息（属性）列表：\n",
    "\n",
    "社交属性：{SOCIAL}\n",
    "品牌：{BRAND}\n",
    "纹路：{LINES}\n",
    "材料：{MATERIAL}\n",
    "昵称：{NICKNAME}\n",
    "系列：{SERIES}\n",
    "类型：{TYPE}\n",
    "\n",
    "请继续根据这些示例，生成{n_sentences}个新的句子。以下是一些示例：\n",
    "{SENTENCE}\n",
    "\"\"\"\n",
    "\n",
    "# user_prompt = \"\"\"以下是供你参考的产品信息（属性）列表：\n",
    "# \n",
    "# 社交属性：{SOCIAL}\n",
    "# 品牌：{BRAND}\n",
    "# 纹路：{LINES}\n",
    "# 材料：{MATERIAL}\n",
    "# 昵称：{NICKNAME}\n",
    "# 系列：{SERIES}\n",
    "# 类型：{TYPE}\n",
    "# \n",
    "# 请帮助我模仿下面的句子的语言风格，替换掉相关的产品属性。句子长度没有固定要求，但要保持自然流畅，可以仅使用产品的部分属性。以下是一些示例：\n",
    "# {SENTENCE}\n",
    "# 请继续根据这些示例，生成{n_sentences}个新的句子。\n",
    "# \"\"\"\n",
    "\n",
    "prompt_template = ChatPromptTemplate.from_messages(\n",
    "    [\n",
    "        (\"system\", system_prompt),\n",
    "        (\"user\", user_prompt)\n",
    "    ]\n",
    ")\n",
    "\n",
    "# a = sample_sentence(sentences, 4)\n",
    "# b = sample_keyword(keywords, 2, stratify=True)\n",
    "\n",
    "# input_prompt = prompt_template.invoke({\n",
    "#     \"SOCIAL\": list2prompt(b, \"keyword\", \"SOCIAL\"),\n",
    "#     \"BRAND\": list2prompt(b, \"keyword\", \"BRAND\"),\n",
    "#     \"LINES\": list2prompt(b, \"keyword\", \"LINES\"),\n",
    "#     \"MATERIAL\": list2prompt(b, \"keyword\", \"MATERIAL\"),\n",
    "#     \"NICKNAME\": list2prompt(b, \"keyword\", \"NICKNAME\"),\n",
    "#     \"SERIES\": list2prompt(b, \"keyword\", \"SERIES\"),\n",
    "#     \"TYPE\": list2prompt(b, \"keyword\", \"TYPE\"),\n",
    "#     \"SENTENCE\": list2prompt(sample_sentence(sentences, 3), \"sentence\"),\n",
    "#     \"n_sentences\": \"1\"\n",
    "# })"
   ],
   "id": "7cbf11309fceb61f",
   "outputs": [],
   "execution_count": 8
  },
  {
   "metadata": {
    "ExecuteTime": {
     "end_time": "2024-05-22T10:08:47.350630Z",
     "start_time": "2024-05-22T10:08:47.335676Z"
    }
   },
   "cell_type": "code",
   "source": [
    "def chain_pipeline(llm_prompt_template, llm_model, llm_parser, debug: bool = False) -> str:\n",
    "    \"\"\"\n",
    "    Use langchain to build a chain of models.\n",
    "    :param llm_prompt_template: input prompt\n",
    "    :param llm_model: model for generating text\n",
    "    :param llm_parser: parser for parsing the output\n",
    "    :param debug: print debug information\n",
    "    :return: model output in string format\n",
    "    \"\"\"\n",
    "    # generate samples as model prompt\n",
    "    s = sample_sentence(sentences, 4)\n",
    "    k = sample_keyword(keywords, 8, stratify=True)\n",
    "    \n",
    "    if debug:\n",
    "        print(f\"example sentences: {s}\")\n",
    "        print(f\"example keywords: {k}\")\n",
    "        \n",
    "    chain = llm_prompt_template | llm_model | llm_parser\n",
    "    r = chain.invoke({\n",
    "        \"SOCIAL\": list2prompt(k, \"keyword\", \"SOCIAL\"),\n",
    "        \"BRAND\": list2prompt(k, \"keyword\", \"BRAND\"),\n",
    "        \"LINES\": list2prompt(k, \"keyword\", \"LINES\"),\n",
    "        \"MATERIAL\": list2prompt(k, \"keyword\", \"MATERIAL\"),\n",
    "        \"NICKNAME\": list2prompt(k, \"keyword\", \"NICKNAME\"),\n",
    "        \"SERIES\": list2prompt(k, \"keyword\", \"SERIES\"),\n",
    "        \"TYPE\": list2prompt(k, \"keyword\", \"TYPE\"),\n",
    "        \"SENTENCE\": list2prompt(s, \"sentence\"),\n",
    "        \"n_sentences\": \"1\"\n",
    "    })\n",
    "    return r"
   ],
   "id": "bf594ee48475fa57",
   "outputs": [],
   "execution_count": 11
  },
  {
   "metadata": {
    "ExecuteTime": {
     "end_time": "2024-05-22T10:09:05.735286Z",
     "start_time": "2024-05-22T10:09:01.689524Z"
    }
   },
   "cell_type": "code",
   "source": "chain_pipeline(prompt_template, model, parser, debug=True)",
   "id": "64235fd88d8e88cf",
   "outputs": [
    {
     "name": "stdout",
     "output_type": "stream",
     "text": [
      "example sentences: [{'sentence': '年轻女性，喜欢歌曲，喜欢迪奥，爱好美食，买过经典款女包，法棍到货通知。'}, {'sentence': '不过买过nano speedy有整理需求，喜欢老花，可推荐皮质包包。'}, {'sentence': '购买过petite malle，购买过never full中号。'}, {'sentence': '年轻女性，爱好旅游，爱好瑜伽，喜欢channel，喜欢celine。'}]\n",
      "example keywords: [{'Category': 'SOCIAL', 'stdkw': '保值'}, {'Category': 'SOCIAL', 'stdkw': '爆款'}, {'Category': 'SOCIAL', 'stdkw': '流行款'}, {'Category': 'BRAND', 'stdkw': 'sandro'}, {'Category': 'BRAND', 'stdkw': '登喜路'}, {'Category': 'BRAND', 'stdkw': '杜嘉班纳'}, {'Category': 'BRAND', 'stdkw': 'loewe'}, {'Category': 'BRAND', 'stdkw': '杰尼亚'}, {'Category': 'BRAND', 'stdkw': 'chaumet'}, {'Category': 'BRAND', 'stdkw': 'ysl'}, {'Category': 'BRAND', 'stdkw': 'roger vivier'}, {'Category': 'LINES', 'stdkw': '夜光'}, {'Category': 'LINES', 'stdkw': '荔枝纹'}, {'Category': 'LINES', 'stdkw': '压纹'}, {'Category': 'LINES', 'stdkw': '灰花'}, {'Category': 'LINES', 'stdkw': '波点'}, {'Category': 'LINES', 'stdkw': '马赛克'}, {'Category': 'LINES', 'stdkw': 'monogram'}, {'Category': 'LINES', 'stdkw': '豹纹'}, {'Category': 'MATERIAL', 'stdkw': 'macassar'}, {'Category': 'MATERIAL', 'stdkw': '鳄鱼皮'}, {'Category': 'MATERIAL', 'stdkw': '蜥蜴皮'}, {'Category': 'MATERIAL', 'stdkw': '棉质'}, {'Category': 'MATERIAL', 'stdkw': '蛇皮'}, {'Category': 'MATERIAL', 'stdkw': '母贝'}, {'Category': 'MATERIAL', 'stdkw': '布艺'}, {'Category': 'MATERIAL', 'stdkw': '木棍材质'}, {'Category': 'NICKNAME', 'stdkw': '软箱'}, {'Category': 'NICKNAME', 'stdkw': '骆驼包'}, {'Category': 'NICKNAME', 'stdkw': '胖丁'}, {'Category': 'NICKNAME', 'stdkw': '骰子包'}, {'Category': 'NICKNAME', 'stdkw': '可颂包'}, {'Category': 'NICKNAME', 'stdkw': '波士顿'}, {'Category': 'NICKNAME', 'stdkw': '枕头包'}, {'Category': 'NICKNAME', 'stdkw': '开口笑'}, {'Category': 'SERIES', 'stdkw': 'lvd'}, {'Category': 'SERIES', 'stdkw': 'nanogram  '}, {'Category': 'SERIES', 'stdkw': 'voise'}, {'Category': 'SERIES', 'stdkw': 'bucket'}, {'Category': 'SERIES', 'stdkw': 'shopper'}, {'Category': 'SERIES', 'stdkw': 'diane'}, {'Category': 'SERIES', 'stdkw': 'dopp kit'}, {'Category': 'SERIES', 'stdkw': 'night'}, {'Category': 'TYPE', 'stdkw': '正装'}, {'Category': 'TYPE', 'stdkw': '金表'}, {'Category': 'TYPE', 'stdkw': '慢跑裤'}, {'Category': 'TYPE', 'stdkw': '高端产品'}, {'Category': 'TYPE', 'stdkw': '花卉牛仔'}, {'Category': 'TYPE', 'stdkw': '服鞋'}, {'Category': 'TYPE', 'stdkw': '胸针'}, {'Category': 'TYPE', 'stdkw': '胸包'}]\n"
     ]
    },
    {
     "data": {
      "text/plain": [
       "'中年男士，热衷于高尔夫，偏爱登喜路，对时尚有着独到见解，曾购入杰尼亚的正装系列，对保值的鳄鱼皮皮带有浓厚兴趣，希望得到新品到货的通知。'"
      ]
     },
     "execution_count": 13,
     "metadata": {},
     "output_type": "execute_result"
    }
   ],
   "execution_count": 13
  },
  {
   "metadata": {},
   "cell_type": "code",
   "outputs": [],
   "execution_count": null,
   "source": [
    "# deprecated code snippet\n",
    "# a = keywords.groupby(\"Category\", group_keys=True).apply(lambda x: x.sample(2), include_groups=False) # .to_dict(orient=\"records\")\n",
    "# a.index = a.index.droplevel(1)\n",
    "# a.reset_index(drop=False, inplace=True)\n",
    "# a.to_dict(orient=\"records\")"
   ],
   "id": "7f1c86d4e3b370d2"
  },
  {
   "metadata": {
    "ExecuteTime": {
     "end_time": "2024-05-22T06:36:28.495222Z",
     "start_time": "2024-05-22T06:36:28.490234Z"
    }
   },
   "cell_type": "code",
   "source": "",
   "id": "e1138a72a169f98e",
   "outputs": [],
   "execution_count": 27
  },
  {
   "metadata": {},
   "cell_type": "code",
   "outputs": [],
   "execution_count": null,
   "source": "",
   "id": "bff2c58ba401c00f"
  }
 ],
 "metadata": {
  "kernelspec": {
   "display_name": "Python 3",
   "language": "python",
   "name": "python3"
  },
  "language_info": {
   "codemirror_mode": {
    "name": "ipython",
    "version": 2
   },
   "file_extension": ".py",
   "mimetype": "text/x-python",
   "name": "python",
   "nbconvert_exporter": "python",
   "pygments_lexer": "ipython2",
   "version": "2.7.6"
  }
 },
 "nbformat": 4,
 "nbformat_minor": 5
}
